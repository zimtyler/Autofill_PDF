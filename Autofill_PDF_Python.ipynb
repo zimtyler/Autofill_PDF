{
 "cells": [
  {
   "cell_type": "markdown",
   "id": "22fbb241",
   "metadata": {},
   "source": [
    "## I used to spend a lot of time filling forms\n",
    "####  Not anymore.\n",
    "With the help of script generously shared online by [Andrew Krcatovich]( https://akdux.com/python/2020/10/31/python-fill-pdf-files.htmlFilling-a-PDF ) and [Vivsvaan Sharma]( https://medium.com/@vivsvaan/filling-editable-pdf-in-python-76712c3ce99 ), I was able to write a script that autofilled pdfs with a template pdf and a csv file of client information.\n",
    "\n",
    "Initially, I set my sights too low. In a previous Medium article I posted, I simply manipulated the table with SQL so that I could link the attributes to the appropriate fields in JotForm. While it worked, I had to create a new Jotform document every time I wanted to fill in a new set of forms.\n",
    "\n",
    "With this, I can take a new form and generate over a thousand filled documents in under a minute.\n",
    "\n",
    "To do this I wrote a script that:\n",
    "1. Creates a dataframe from csv file\n",
    "2. Creates a nested dictionary with outer dictionary key referencing the client_df row index\n",
    "   a. inner dictionary items are column name, value the client information\n",
    "3. Opens a template pdf (make sure path is set for the pdf used as a template)\n",
    "4. Iterates through the index to select inner dictionary\n",
    "5. For every column name key that is identical to field key (text fillable annotation) in the template, the value is filled in that key.\n",
    "\n",
    "Because dictionaries are unstructured, using the client_df index allowed me to iterate over the length of the\n",
    "dataframe to create a document for each client."
   ]
  },
  {
   "cell_type": "code",
   "execution_count": null,
   "id": "1f4fdc08",
   "metadata": {},
   "outputs": [],
   "source": [
    "import pdfrw #allows me to interact with template pdf\n",
    "import pandas as pd #to create dataframe and dictionary from client csv file"
   ]
  },
  {
   "cell_type": "code",
   "execution_count": 4,
   "id": "3130fb43",
   "metadata": {},
   "outputs": [],
   "source": [
    "#Annotations (Annots) are objects in a PDF file that allow us to interact with the pdf.\n",
    "ANNOT_KEY = '/Annots'\n",
    "ANNOT_FIELD_KEY = '/T'\n",
    "ANNOT_VAL_KEY = '/V'\n",
    "ANNOT_RECT_KEY = 'Rect'\n",
    "SUBTYPE_KEY = '/Subtype'\n",
    "WIDGET_SUBTYPE_KEY = '/Widget'"
   ]
  },
  {
   "cell_type": "code",
   "execution_count": null,
   "id": "c1bcfb95",
   "metadata": {},
   "outputs": [],
   "source": [
    "def autofill_bulk_pdf(input_pdf, client_csv):\n",
    "    client_df = pd.read_csv(client_csv)\n",
    "    client_dict = client_df.to_dict('index')\n",
    "    template_pdf = pdfrw.PdfReader(input_pdf)\n",
    "    for i in range(len(client_df)):\n",
    "        \n",
    "        #selecting inner dictionary\n",
    "        individual_dict = client_dict[i]\n",
    "        \n",
    "        #each page in the pdf needs to be looped through\n",
    "        for page in template_pdf.pages:\n",
    "            annotations = page[ANNOT_KEY]\n",
    "            for annotation in annotations:\n",
    "                \n",
    "                #make sure the subtype is a widget, which allows us to fill in information\n",
    "                if annotation[SUBTYPE_KEY] == WIDGET_SUBTYPE_KEY:\n",
    "                    if annotation[ANNOT_FIELD_KEY]:\n",
    "                        \n",
    "                        #Remove the parenthesis from the field key to match individual_dict keys\n",
    "                        key = annotation[ANNOT_FIELD_KEY][1:-1]\n",
    "                        if key in individual_dict.keys():\n",
    "                            \n",
    "                            #fill in information\n",
    "                            annotation.update(\n",
    "                                pdfrw.PdfDict(V='{}'.format(individual_dict[key])))\n",
    "                                \n",
    "                            annotation.update(pdfrw.PdfDict(AP=''))\n",
    "                            \n",
    "                        '''\n",
    "                        PdfReader will not pull up an Annot if it is listed more than once \n",
    "                        in the PDF. This also applies to 'exclusive or' check boxes. This is \n",
    "                        why I had to apply the second instance of Nname to a different \n",
    "                        key ('Name_Again').\n",
    "                        '''\n",
    "                       \n",
    "                        if key == 'Name_Again':\n",
    "                            annotation.update(\n",
    "                                pdfrw.PdfDict(V='{}'.format(individual_dict['Name'])))\n",
    "                                \n",
    "                            annotation.update(pdfrw.PdfDict(AP=''))\n",
    "                            \n",
    "        #according to a couple online resources, the values entered may not always propulate when\n",
    "        #the pdf is opened. To avoid that, this line of code is used.\n",
    "        template_pdf.Root.AcroForm.update(pdfrw.PdfDict(NeedAppearances=pdfrw.PdfObject('true')))\n",
    "        \n",
    "        #saves new, filled in pdf as 'client name input_pdf.pdf' with reference to the template\n",
    "        pdfrw.PdfWriter().write('{} {}.format(individual_dict['Name'], input_pdf), template_pdf)"
   ]
  },
  {
   "cell_type": "code",
   "execution_count": null,
   "id": "bfa96ac8",
   "metadata": {},
   "outputs": [],
   "source": [
    "autofill_bulk_pdf(\"Review_Form.pdf\", \"Client_List.csv\")"
   ]
  },
  {
   "cell_type": "markdown",
   "id": "eecfd6d6",
   "metadata": {},
   "source": [
    "Huge thanks again to [Andrew Krcatovich]( https://akdux.com/python/2020/10/31/python-fill-pdf-files.htmlFilling-a-PDF ) and [Vivsvaan Sharma]( https://medium.com/@vivsvaan/filling-editable-pdf-in-python-76712c3ce99 ) for providing thorough explainations of how the pdfrw works, how the annotation keys work in a PDF document, and the bulk of the code. This was exactly what I needed.\n",
    "\n",
    "There is still some work that needs to be done for certain types of widgets as mentioned above. I also need to really double down on standardizing field naming.\n",
    "\n",
    "As for filling or updating a specific client form, I removed the iteration, created a list from the df so I could use the  .index() method to retreive the number that refered to the indexed row. I'm sure there is a better way to return an index from a value in a df, but this was my first instict and it works.\n"
   ]
  },
  {
   "cell_type": "code",
   "execution_count": null,
   "id": "758c15e0",
   "metadata": {},
   "outputs": [],
   "source": [
    "def autofill_individual_pdf(input_pdf_path, client_csv, name):\n",
    "    client_df = pd.read_csv(client_csv)\n",
    "    client_dict = client_df.to_dict('index')\n",
    "    template_pdf = pdfrw.PdfReader(input_pdf_path)\n",
    "    client_df = pd.read_csv(client_csv)\n",
    "    name_list = client_df['Name'].values.tolist()\n",
    "    i = name_list.index(name)\n",
    "    individual_dict = client_dict[i]\n",
    "    for page in template_pdf.pages:\n",
    "        annotations = page[ANNOT_KEY]\n",
    "        for annotation in annotations:\n",
    "            if annotation[SUBTYPE_KEY] == WIDGET_SUBTYPE_KEY:\n",
    "                if annotation[ANNOT_FIELD_KEY]:\n",
    "                    key = annotation[ANNOT_FIELD_KEY][1:-1]\n",
    "                    if key in individual_dict.keys():\n",
    "                        annotation.update(\n",
    "                            pdfrw.PdfDict(V='{}'.format(individual_dict[key])))       \n",
    "                        annotation.update(pdfrw.PdfDict(AP=''))\n",
    "                    if key == 'Owner Name':\n",
    "                        annotation.update(\n",
    "                            pdfrw.PdfDict(V='{}'.format(individual_dict['Name'])))        \n",
    "                        annotation.update(pdfrw.PdfDict(AP=''))\n",
    "    template_pdf.Root.AcroForm.update(pdfrw.PdfDict(NeedAppearances=pdfrw.PdfObject('true')))\n",
    "    pdfrw.PdfWriter().write('{} Review.pdf'.format(individual_dict['Name']), template_pdf)"
   ]
  },
  {
   "cell_type": "markdown",
   "id": "0256afd6",
   "metadata": {},
   "source": [
    "That's all for now. If you have any further suggestions, I'd love to hear about it."
   ]
  }
 ],
 "metadata": {
  "kernelspec": {
   "display_name": "Python 3 (ipykernel)",
   "language": "python",
   "name": "python3"
  },
  "language_info": {
   "codemirror_mode": {
    "name": "ipython",
    "version": 3
   },
   "file_extension": ".py",
   "mimetype": "text/x-python",
   "name": "python",
   "nbconvert_exporter": "python",
   "pygments_lexer": "ipython3",
   "version": "3.9.7"
  }
 },
 "nbformat": 4,
 "nbformat_minor": 5
}
